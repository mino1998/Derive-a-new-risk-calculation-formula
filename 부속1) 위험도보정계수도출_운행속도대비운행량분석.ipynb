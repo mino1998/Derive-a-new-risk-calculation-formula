{
  "nbformat": 4,
  "nbformat_minor": 0,
  "metadata": {
    "colab": {
      "provenance": [],
      "gpuType": "T4"
    },
    "kernelspec": {
      "name": "python3",
      "display_name": "Python 3"
    },
    "language_info": {
      "name": "python"
    },
    "gpuClass": "standard"
  },
  "cells": [
    {
      "cell_type": "markdown",
      "source": [
        "1. library import"
      ],
      "metadata": {
        "id": "afv_FEVOlW4D"
      }
    },
    {
      "cell_type": "code",
      "source": [
        "import numpy as np\n",
        "import pandas as pd"
      ],
      "metadata": {
        "id": "IxX-6EMT9QwD"
      },
      "execution_count": 2,
      "outputs": []
    },
    {
      "cell_type": "markdown",
      "source": [
        "2. 드라이브 마운트 및 csv파일 업로드"
      ],
      "metadata": {
        "id": "bulkaTWO9S1w"
      }
    },
    {
      "cell_type": "code",
      "source": [
        "from google.colab import drive\n",
        "from google.colab import files\n",
        "\n",
        "drive.mount('gdirve')\n"
      ],
      "metadata": {
        "colab": {
          "base_uri": "https://localhost:8080/"
        },
        "id": "g7mn5PIW9WIT",
        "outputId": "ee499692-29a9-4e1a-fdbf-662d761d2bab"
      },
      "execution_count": 3,
      "outputs": [
        {
          "output_type": "stream",
          "name": "stdout",
          "text": [
            "Mounted at gdirve\n"
          ]
        }
      ]
    },
    {
      "cell_type": "markdown",
      "source": [
        "\n",
        "3. 데이터 로딩 (zip파일)"
      ],
      "metadata": {
        "id": "HsWPywA6hBSI"
      }
    },
    {
      "cell_type": "code",
      "source": [
        "import matplotlib.pyplot as plt\n",
        "import io\n",
        "from zipfile import ZipFile\n",
        "import gc\n",
        "\n",
        "\n",
        "\n",
        "filepath = '/content/gdirve/MyDrive/lecture-2023-bigdata/인천광역시_운행속도_' #이거는 택시데이터 원본 csv파일을 사용하면 됨\n",
        "csvlist = [filepath + '202001.zip']\n",
        "chunksize = 10 ** 5 # 한번에 읽을 데이터 크기\n",
        "data_filename = []\n",
        "usecols = ['시간', '위도', '경도', '운행속도']\n",
        "dfs=[] \n",
        "\n",
        "for csvfile in csvlist:\n",
        "  with ZipFile(csvfile, 'r') as zipObj:\n",
        "      listOfFileNames = zipObj.namelist()\n",
        "      for fileName in listOfFileNames:\n",
        "          if fileName.endswith('csv'): \n",
        "              print(fileName)\n",
        "              with zipObj.open(fileName) as f:\n",
        "                for chunk in pd.read_csv(f, chunksize=chunksize, usecols=usecols, encoding='cp949'):\n",
        "                    chunk['위도'] = chunk['위도'].astype('float').round(5)\n",
        "                    chunk['경도'] = chunk['경도'].astype('float').round(5)\n",
        "                    chunk['운행속도'] = chunk['운행속도'].astype('uint8')\n",
        "                    dfs.append(chunk)\n",
        "                    del chunk\n",
        "                    gc.collect()\n",
        "                f.close()\n",
        "      zipObj.close()\n",
        "\n",
        "\n",
        "\n"
      ],
      "metadata": {
        "colab": {
          "base_uri": "https://localhost:8080/"
        },
        "id": "IUYrjENUhPUN",
        "outputId": "d3692cef-d656-4801-cb79-ad739b8ab165"
      },
      "execution_count": 4,
      "outputs": [
        {
          "output_type": "stream",
          "name": "stdout",
          "text": [
            "인천광역시_운행속도_202001.csv\n"
          ]
        }
      ]
    },
    {
      "cell_type": "markdown",
      "source": [
        "4. 시간컬럼 -> 시간대별, 요일별로 나눔"
      ],
      "metadata": {
        "id": "8HphaCpE4GIc"
      }
    },
    {
      "cell_type": "code",
      "source": [
        "date_format = '%Y-%m-%d %H:%M:%S' # CSV 파일에서 시간 데이터의 형식\n",
        "for df in dfs:\n",
        "    df['시간대별'] = pd.to_datetime(df['시간'], format=date_format).dt.hour\n",
        "    df['요일별'] = pd.to_datetime(df['시간'], format=date_format).dt.dayofweek\n",
        "    df.drop('시간', axis=1, inplace=True)"
      ],
      "metadata": {
        "id": "3adHvRsLrCLi"
      },
      "execution_count": 5,
      "outputs": []
    },
    {
      "cell_type": "markdown",
      "source": [
        "5. 쪼개서 불러왔던 데이터프레임 병합"
      ],
      "metadata": {
        "id": "e5AIuuEe4N1a"
      }
    },
    {
      "cell_type": "code",
      "source": [
        "result = pd.concat(dfs)\n",
        "result = result[result['운행속도'] != 0]\n",
        "del dfs\n",
        "gc.collect()\n"
      ],
      "metadata": {
        "colab": {
          "base_uri": "https://localhost:8080/"
        },
        "id": "3jAiTo3xX1r7",
        "outputId": "4c0ba1be-b46c-475c-d746-63c24d200894"
      },
      "execution_count": 6,
      "outputs": [
        {
          "output_type": "execute_result",
          "data": {
            "text/plain": [
              "0"
            ]
          },
          "metadata": {},
          "execution_count": 6
        }
      ]
    },
    {
      "cell_type": "markdown",
      "source": [
        "6. 요일, 시간대, 위도, 경도, 운행속도로 총 집계 그루핑"
      ],
      "metadata": {
        "id": "IIPS00UR4NJZ"
      }
    },
    {
      "cell_type": "code",
      "source": [
        "#그루핑\n",
        "max_speed = result['운행속도'].max() # 데이터의 최대 운행속도를 구함\n",
        "result = result.groupby(['운행속도'], dropna=True).size().reset_index(name='개수')\n",
        "\n"
      ],
      "metadata": {
        "id": "T6H7TQ3qR4Op"
      },
      "execution_count": 7,
      "outputs": []
    },
    {
      "cell_type": "code",
      "source": [
        "print(result)"
      ],
      "metadata": {
        "colab": {
          "base_uri": "https://localhost:8080/"
        },
        "id": "QORhnbUUHFnX",
        "outputId": "833a3df1-1704-4d9b-9d77-b231c43527a8"
      },
      "execution_count": 8,
      "outputs": [
        {
          "output_type": "stream",
          "name": "stdout",
          "text": [
            "     운행속도       개수\n",
            "0       1  2104850\n",
            "1       2   898930\n",
            "2       3   611182\n",
            "3       4   523096\n",
            "4       5   467827\n",
            "..    ...      ...\n",
            "157   158        2\n",
            "158   160        1\n",
            "159   162        3\n",
            "160   163        2\n",
            "161   164        4\n",
            "\n",
            "[162 rows x 2 columns]\n"
          ]
        }
      ]
    },
    {
      "cell_type": "code",
      "source": [
        "import matplotlib.pyplot as plt\n",
        "\n",
        "result = result[(result['운행속도'] >= 10) & (result['운행속도'] <= 120)]\n",
        "result['운행속도'] = result['운행속도']\n",
        "x = result['운행속도']\n",
        "y = result['개수']\n",
        "\n",
        "\n",
        "plt.hist(x, bins=15, weights=y, color='blue', alpha=0.5)\n",
        "plt.xlabel('운행속도')\n",
        "plt.ylabel('개수')\n",
        "plt.title('운행속도와 개수의 히스토그램')\n",
        "plt.show()"
      ],
      "metadata": {
        "colab": {
          "base_uri": "https://localhost:8080/",
          "height": 923
        },
        "id": "jjnVPkk0QNR2",
        "outputId": "89a21d50-2345-4fa5-d229-267bb85ba1d6"
      },
      "execution_count": 9,
      "outputs": [
        {
          "output_type": "stream",
          "name": "stderr",
          "text": [
            "/usr/local/lib/python3.10/dist-packages/IPython/core/pylabtools.py:151: UserWarning: Glyph 44060 (\\N{HANGUL SYLLABLE GAE}) missing from current font.\n",
            "  fig.canvas.print_figure(bytes_io, **kw)\n",
            "/usr/local/lib/python3.10/dist-packages/IPython/core/pylabtools.py:151: UserWarning: Glyph 49688 (\\N{HANGUL SYLLABLE SU}) missing from current font.\n",
            "  fig.canvas.print_figure(bytes_io, **kw)\n",
            "/usr/local/lib/python3.10/dist-packages/IPython/core/pylabtools.py:151: UserWarning: Glyph 50868 (\\N{HANGUL SYLLABLE UN}) missing from current font.\n",
            "  fig.canvas.print_figure(bytes_io, **kw)\n",
            "/usr/local/lib/python3.10/dist-packages/IPython/core/pylabtools.py:151: UserWarning: Glyph 54665 (\\N{HANGUL SYLLABLE HAENG}) missing from current font.\n",
            "  fig.canvas.print_figure(bytes_io, **kw)\n",
            "/usr/local/lib/python3.10/dist-packages/IPython/core/pylabtools.py:151: UserWarning: Glyph 49549 (\\N{HANGUL SYLLABLE SOG}) missing from current font.\n",
            "  fig.canvas.print_figure(bytes_io, **kw)\n",
            "/usr/local/lib/python3.10/dist-packages/IPython/core/pylabtools.py:151: UserWarning: Glyph 46020 (\\N{HANGUL SYLLABLE DO}) missing from current font.\n",
            "  fig.canvas.print_figure(bytes_io, **kw)\n",
            "/usr/local/lib/python3.10/dist-packages/IPython/core/pylabtools.py:151: UserWarning: Glyph 50752 (\\N{HANGUL SYLLABLE WA}) missing from current font.\n",
            "  fig.canvas.print_figure(bytes_io, **kw)\n",
            "/usr/local/lib/python3.10/dist-packages/IPython/core/pylabtools.py:151: UserWarning: Glyph 51032 (\\N{HANGUL SYLLABLE YI}) missing from current font.\n",
            "  fig.canvas.print_figure(bytes_io, **kw)\n",
            "/usr/local/lib/python3.10/dist-packages/IPython/core/pylabtools.py:151: UserWarning: Glyph 55176 (\\N{HANGUL SYLLABLE HI}) missing from current font.\n",
            "  fig.canvas.print_figure(bytes_io, **kw)\n",
            "/usr/local/lib/python3.10/dist-packages/IPython/core/pylabtools.py:151: UserWarning: Glyph 49828 (\\N{HANGUL SYLLABLE SEU}) missing from current font.\n",
            "  fig.canvas.print_figure(bytes_io, **kw)\n",
            "/usr/local/lib/python3.10/dist-packages/IPython/core/pylabtools.py:151: UserWarning: Glyph 53664 (\\N{HANGUL SYLLABLE TO}) missing from current font.\n",
            "  fig.canvas.print_figure(bytes_io, **kw)\n",
            "/usr/local/lib/python3.10/dist-packages/IPython/core/pylabtools.py:151: UserWarning: Glyph 44536 (\\N{HANGUL SYLLABLE GEU}) missing from current font.\n",
            "  fig.canvas.print_figure(bytes_io, **kw)\n",
            "/usr/local/lib/python3.10/dist-packages/IPython/core/pylabtools.py:151: UserWarning: Glyph 47016 (\\N{HANGUL SYLLABLE RAEM}) missing from current font.\n",
            "  fig.canvas.print_figure(bytes_io, **kw)\n"
          ]
        },
        {
          "output_type": "display_data",
          "data": {
            "text/plain": [
              "<Figure size 640x480 with 1 Axes>"
            ],
            "image/png": "[encoded data removed]"
          },
          "metadata": {}
        }
      ]
    },
    {
      "cell_type": "code",
      "source": [
        "import numpy as np\n",
        "import pandas as pd\n",
        "from sklearn.linear_model import LinearRegression\n",
        "\n",
        "result.dropna(subset=['운행속도', '개수'], inplace=True)\n",
        "\n",
        "\n",
        "\n",
        "# 선형 회귀 모델 학습\n",
        "model = LinearRegression()\n",
        "model.fit(result[['운행속도']], result['개수'])\n",
        "\n",
        "\n",
        "# 예측 결과 얻기\n",
        "predicted_y = model.predict(result[['운행속도']])\n"
      ],
      "metadata": {
        "id": "QPAFZDvYRuoJ"
      },
      "execution_count": 10,
      "outputs": []
    },
    {
      "cell_type": "code",
      "source": [
        "# 학습된 모델의 계수와 절편 확인\n",
        "coefficients = model.coef_\n",
        "intercept = model.intercept_\n",
        "\n",
        "# 모델의 식 출력\n",
        "print(\"모델의 식: y = {}x + {}\".format(coefficients[0], intercept))"
      ],
      "metadata": {
        "colab": {
          "base_uri": "https://localhost:8080/"
        },
        "id": "zuHfl23AUQZe",
        "outputId": "67591ddf-8e19-4c2f-8045-412ff42a5571"
      },
      "execution_count": 11,
      "outputs": [
        {
          "output_type": "stream",
          "name": "stdout",
          "text": [
            "모델의 식: y = -4898.072253422254x + 503661.5253012753\n"
          ]
        }
      ]
    },
    {
      "cell_type": "code",
      "source": [
        "import matplotlib.pyplot as plt\n",
        "\n",
        "# 원래 데이터와 모델 예측 결과 그래프로 표현\n",
        "plt.scatter(result['운행속도'], result['개수'], label='Original Data')\n",
        "plt.plot(result['운행속도'], predicted_y, color='red', label='Predicted Data')\n",
        "plt.xlabel('운행속도')\n",
        "plt.ylabel('개수')\n",
        "plt.legend()\n",
        "plt.show()"
      ],
      "metadata": {
        "colab": {
          "base_uri": "https://localhost:8080/",
          "height": 657
        },
        "id": "GF2AMNvFXb3s",
        "outputId": "b10d4c6a-133a-4537-edf2-6a0336d7fa7c"
      },
      "execution_count": 12,
      "outputs": [
        {
          "output_type": "stream",
          "name": "stderr",
          "text": [
            "/usr/local/lib/python3.10/dist-packages/IPython/core/pylabtools.py:151: UserWarning: Glyph 50868 (\\N{HANGUL SYLLABLE UN}) missing from current font.\n",
            "  fig.canvas.print_figure(bytes_io, **kw)\n",
            "/usr/local/lib/python3.10/dist-packages/IPython/core/pylabtools.py:151: UserWarning: Glyph 54665 (\\N{HANGUL SYLLABLE HAENG}) missing from current font.\n",
            "  fig.canvas.print_figure(bytes_io, **kw)\n",
            "/usr/local/lib/python3.10/dist-packages/IPython/core/pylabtools.py:151: UserWarning: Glyph 49549 (\\N{HANGUL SYLLABLE SOG}) missing from current font.\n",
            "  fig.canvas.print_figure(bytes_io, **kw)\n",
            "/usr/local/lib/python3.10/dist-packages/IPython/core/pylabtools.py:151: UserWarning: Glyph 46020 (\\N{HANGUL SYLLABLE DO}) missing from current font.\n",
            "  fig.canvas.print_figure(bytes_io, **kw)\n",
            "/usr/local/lib/python3.10/dist-packages/IPython/core/pylabtools.py:151: UserWarning: Glyph 44060 (\\N{HANGUL SYLLABLE GAE}) missing from current font.\n",
            "  fig.canvas.print_figure(bytes_io, **kw)\n",
            "/usr/local/lib/python3.10/dist-packages/IPython/core/pylabtools.py:151: UserWarning: Glyph 49688 (\\N{HANGUL SYLLABLE SU}) missing from current font.\n",
            "  fig.canvas.print_figure(bytes_io, **kw)\n"
          ]
        },
        {
          "output_type": "display_data",
          "data": {
            "text/plain": [
              "<Figure size 640x480 with 1 Axes>"
            ],
            "image/png": "[encoded data removed]"
          },
          "metadata": {}
        }
      ]
    },
    {
      "cell_type": "code",
      "source": [
        "def calc(x):\n",
        "  y = (-3706.7167 * x) + 442528.1834125318\n",
        "  # -3706.7167430112577x + 442528.1834125318\n",
        "  return y"
      ],
      "metadata": {
        "id": "UhvT8eeqZQEZ"
      },
      "execution_count": 13,
      "outputs": []
    },
    {
      "cell_type": "code",
      "source": [
        "for i in range(0, 120, 1):\n",
        "  print(i, calc(i))"
      ],
      "metadata": {
        "colab": {
          "base_uri": "https://localhost:8080/"
        },
        "id": "W7ioLKCsZaj_",
        "outputId": "6bf725c5-be1b-4e10-f787-36e2c7a87860"
      },
      "execution_count": 14,
      "outputs": [
        {
          "output_type": "stream",
          "name": "stdout",
          "text": [
            "0 442528.1834125318\n",
            "1 438821.4667125318\n",
            "2 435114.7500125318\n",
            "3 431408.03331253177\n",
            "4 427701.3166125318\n",
            "5 423994.5999125318\n",
            "6 420287.8832125318\n",
            "7 416581.1665125318\n",
            "8 412874.4498125318\n",
            "9 409167.73311253183\n",
            "10 405461.0164125318\n",
            "11 401754.2997125318\n",
            "12 398047.5830125318\n",
            "13 394340.8663125318\n",
            "14 390634.1496125318\n",
            "15 386927.4329125318\n",
            "16 383220.7162125318\n",
            "17 379513.9995125318\n",
            "18 375807.2828125318\n",
            "19 372100.5661125318\n",
            "20 368393.8494125318\n",
            "21 364687.13271253183\n",
            "22 360980.4160125318\n",
            "23 357273.6993125318\n",
            "24 353566.9826125318\n",
            "25 349860.2659125318\n",
            "26 346153.54921253177\n",
            "27 342446.8325125318\n",
            "28 338740.1158125318\n",
            "29 335033.3991125318\n",
            "30 331326.6824125318\n",
            "31 327619.9657125318\n",
            "32 323913.2490125318\n",
            "33 320206.5323125318\n",
            "34 316499.8156125318\n",
            "35 312793.0989125318\n",
            "36 309086.3822125318\n",
            "37 305379.66551253176\n",
            "38 301672.9488125318\n",
            "39 297966.2321125318\n",
            "40 294259.5154125318\n",
            "41 290552.7987125318\n",
            "42 286846.0820125318\n",
            "43 283139.3653125318\n",
            "44 279432.64861253183\n",
            "45 275725.93191253184\n",
            "46 272019.2152125318\n",
            "47 268312.4985125318\n",
            "48 264605.7818125318\n",
            "49 260899.0651125318\n",
            "50 257192.3484125318\n",
            "51 253485.6317125318\n",
            "52 249778.9150125318\n",
            "53 246072.1983125318\n",
            "54 242365.4816125318\n",
            "55 238658.7649125318\n",
            "56 234952.0482125318\n",
            "57 231245.3315125318\n",
            "58 227538.6148125318\n",
            "59 223831.8981125318\n",
            "60 220125.1814125318\n",
            "61 216418.4647125318\n",
            "62 212711.7480125318\n",
            "63 209005.0313125318\n",
            "64 205298.3146125318\n",
            "65 201591.5979125318\n",
            "66 197884.8812125318\n",
            "67 194178.1645125318\n",
            "68 190471.4478125318\n",
            "69 186764.7311125318\n",
            "70 183058.0144125318\n",
            "71 179351.2977125318\n",
            "72 175644.58101253182\n",
            "73 171937.86431253178\n",
            "74 168231.1476125318\n",
            "75 164524.4309125318\n",
            "76 160817.7142125318\n",
            "77 157110.99751253182\n",
            "78 153404.28081253183\n",
            "79 149697.56411253178\n",
            "80 145990.8474125318\n",
            "81 142284.1307125318\n",
            "82 138577.4140125318\n",
            "83 134870.69731253182\n",
            "84 131163.98061253183\n",
            "85 127457.26391253178\n",
            "86 123750.54721253179\n",
            "87 120043.8305125318\n",
            "88 116337.11381253181\n",
            "89 112630.39711253182\n",
            "90 108923.68041253183\n",
            "91 105216.96371253178\n",
            "92 101510.24701253179\n",
            "93 97803.5303125318\n",
            "94 94096.81361253181\n",
            "95 90390.09691253182\n",
            "96 86683.38021253183\n",
            "97 82976.66351253178\n",
            "98 79269.9468125318\n",
            "99 75563.2301125318\n",
            "100 71856.51341253181\n",
            "101 68149.79671253182\n",
            "102 64443.08001253178\n",
            "103 60736.36331253179\n",
            "104 57029.6466125318\n",
            "105 53322.92991253181\n",
            "106 49616.21321253182\n",
            "107 45909.49651253183\n",
            "108 42202.77981253178\n",
            "109 38496.06311253179\n",
            "110 34789.3464125318\n",
            "111 31082.62971253181\n",
            "112 27375.91301253182\n",
            "113 23669.19631253183\n",
            "114 19962.47961253178\n",
            "115 16255.76291253179\n",
            "116 12549.0462125318\n",
            "117 8842.32951253181\n",
            "118 5135.612812531821\n",
            "119 1428.896112531831\n"
          ]
        }
      ]
    },
    {
      "cell_type": "code",
      "source": [
        "def find_x2(x1):\n",
        "    target_y = calc(x1) / 2\n",
        "    x2 = np.arange(0, 120.1, 0.1)  # x2 범위: 0부터 80까지 0.1 단위로 증가\n",
        "    y2 = calc(x2)\n",
        "    idx = np.abs(y2 - target_y).argmin()  # 타겟 y와의 차이가 가장 작은 인덱스 찾기\n",
        "    return x2[idx]\n"
      ],
      "metadata": {
        "id": "XOAoCllqei_z"
      },
      "execution_count": 15,
      "outputs": []
    },
    {
      "cell_type": "code",
      "source": [],
      "metadata": {
        "id": "8NlwH9fXj14_"
      },
      "execution_count": 15,
      "outputs": []
    },
    {
      "cell_type": "code",
      "source": [
        "# 데이터 쌍 생성\n",
        "# 원래 데이터\n",
        "x_original = np.arange(0, 121)\n",
        "y_original = np.array([find_x2(x) for x in x_original])\n",
        "\n",
        "# 데이터 셋 분리\n",
        "X = np.array(x_original).reshape(-1, 1)\n",
        "y = np.array(y_original)\n",
        "\n",
        "# 선형 회귀 모델 학습\n",
        "model = LinearRegression()\n",
        "model.fit(X, y)\n",
        "\n",
        "print(x_original)\n",
        "print(y_original)\n",
        "\n",
        "\n",
        "# 학습된 모델의 기울기와 절편 출력\n",
        "slope = model.coef_[0]\n",
        "intercept = model.intercept_\n",
        "print(f\"선형 방정식: y = {slope:.2f} * x + {intercept:.2f}\")\n",
        "\n",
        "\n",
        "\n",
        "# 선형 회귀 모델의 예측 결과\n",
        "x_pred = np.arange(0, 121)\n",
        "y_pred = model.predict(x_pred.reshape(-1, 1))\n",
        "\n",
        "# 그래프로 표현\n",
        "plt.figure(figsize=(8, 6))\n",
        "plt.scatter(x_original, y_original, label='Original Data')\n",
        "plt.plot(x_pred, y_pred, color='red', label='Linear Regression Model')\n",
        "plt.xlabel('2배 유동차량 속도')\n",
        "plt.ylabel('1배 유동차량 속도')\n",
        "plt.title('Linear Regression')\n",
        "plt.legend()\n",
        "plt.show()"
      ],
      "metadata": {
        "colab": {
          "base_uri": "https://localhost:8080/",
          "height": 1000
        },
        "id": "xTFzo8hgfBUJ",
        "outputId": "b75a98d0-6199-42d0-ec6f-a95e1b6348a0"
      },
      "execution_count": 16,
      "outputs": [
        {
          "output_type": "stream",
          "name": "stdout",
          "text": [
            "[  0   1   2   3   4   5   6   7   8   9  10  11  12  13  14  15  16  17\n",
            "  18  19  20  21  22  23  24  25  26  27  28  29  30  31  32  33  34  35\n",
            "  36  37  38  39  40  41  42  43  44  45  46  47  48  49  50  51  52  53\n",
            "  54  55  56  57  58  59  60  61  62  63  64  65  66  67  68  69  70  71\n",
            "  72  73  74  75  76  77  78  79  80  81  82  83  84  85  86  87  88  89\n",
            "  90  91  92  93  94  95  96  97  98  99 100 101 102 103 104 105 106 107\n",
            " 108 109 110 111 112 113 114 115 116 117 118 119 120]\n",
            "[ 59.7  60.2  60.7  61.2  61.7  62.2  62.7  63.2  63.7  64.2  64.7  65.2\n",
            "  65.7  66.2  66.7  67.2  67.7  68.2  68.7  69.2  69.7  70.2  70.7  71.2\n",
            "  71.7  72.2  72.7  73.2  73.7  74.2  74.7  75.2  75.7  76.2  76.7  77.2\n",
            "  77.7  78.2  78.7  79.2  79.7  80.2  80.7  81.2  81.7  82.2  82.7  83.2\n",
            "  83.7  84.2  84.7  85.2  85.7  86.2  86.7  87.2  87.7  88.2  88.7  89.2\n",
            "  89.7  90.2  90.7  91.2  91.7  92.2  92.7  93.2  93.7  94.2  94.7  95.2\n",
            "  95.7  96.2  96.7  97.2  97.7  98.2  98.7  99.2  99.7 100.2 100.7 101.2\n",
            " 101.7 102.2 102.7 103.2 103.7 104.2 104.7 105.2 105.7 106.2 106.7 107.2\n",
            " 107.7 108.2 108.7 109.2 109.7 110.2 110.7 111.2 111.7 112.2 112.7 113.2\n",
            " 113.7 114.2 114.7 115.2 115.7 116.2 116.7 117.2 117.7 118.2 118.7 119.2\n",
            " 119.7]\n",
            "선형 방정식: y = 0.50 * x + 59.70\n"
          ]
        },
        {
          "output_type": "stream",
          "name": "stderr",
          "text": [
            "/usr/local/lib/python3.10/dist-packages/IPython/core/pylabtools.py:151: UserWarning: Glyph 48176 (\\N{HANGUL SYLLABLE BAE}) missing from current font.\n",
            "  fig.canvas.print_figure(bytes_io, **kw)\n",
            "/usr/local/lib/python3.10/dist-packages/IPython/core/pylabtools.py:151: UserWarning: Glyph 50976 (\\N{HANGUL SYLLABLE YU}) missing from current font.\n",
            "  fig.canvas.print_figure(bytes_io, **kw)\n",
            "/usr/local/lib/python3.10/dist-packages/IPython/core/pylabtools.py:151: UserWarning: Glyph 46041 (\\N{HANGUL SYLLABLE DONG}) missing from current font.\n",
            "  fig.canvas.print_figure(bytes_io, **kw)\n",
            "/usr/local/lib/python3.10/dist-packages/IPython/core/pylabtools.py:151: UserWarning: Glyph 52264 (\\N{HANGUL SYLLABLE CA}) missing from current font.\n",
            "  fig.canvas.print_figure(bytes_io, **kw)\n",
            "/usr/local/lib/python3.10/dist-packages/IPython/core/pylabtools.py:151: UserWarning: Glyph 47049 (\\N{HANGUL SYLLABLE RYANG}) missing from current font.\n",
            "  fig.canvas.print_figure(bytes_io, **kw)\n",
            "/usr/local/lib/python3.10/dist-packages/IPython/core/pylabtools.py:151: UserWarning: Glyph 49549 (\\N{HANGUL SYLLABLE SOG}) missing from current font.\n",
            "  fig.canvas.print_figure(bytes_io, **kw)\n",
            "/usr/local/lib/python3.10/dist-packages/IPython/core/pylabtools.py:151: UserWarning: Glyph 46020 (\\N{HANGUL SYLLABLE DO}) missing from current font.\n",
            "  fig.canvas.print_figure(bytes_io, **kw)\n"
          ]
        },
        {
          "output_type": "display_data",
          "data": {
            "text/plain": [
              "<Figure size 800x600 with 1 Axes>"
            ],
            "image/png": "[encoded data removed]"
          },
          "metadata": {}
        }
      ]
    },
    {
      "cell_type": "markdown",
      "source": [
        "# 최종 위험지수 도출 수행\n",
        "- 변수는 운행속도(A)와, 위험도(B). 둘 다 최종 위험지수(Y)와는 양의 상관관계를 가짐\n",
        "- 유동차량수는 ~A 라고 하겠음\n",
        "- 운행속도와 위험도를 단순 곱할수는 없으므로 임의의 상관관계를 지정했음\n",
        "- [사망사고 3건, 유동차량 100대] Region1과 [사망사고 4건, 유동차량 200대]의 Region2의 최종 위험지수는 같다고 가설을 세움\n",
        "  * == \"B가 3인 지역 Region1과\", \"B가 4이면서 ~A가 Region1의 2배인 Region2\"의 Y은 같다고 가설을 세움\n",
        "- 어떤 운행속도에 대해서 유동차량이 2배가 되는 운행속도를 구하는 식은 아래에 따름\n",
        "  * 운행속도대비유동차량.ipynb에 의해 도출\n",
        "  * A' = 0.50 * A + 59.70 \n",
        "- 위의 식을 이용하여 현재 운행속도를 기반으로, 위의 가설을 사용할 보정계수를 도출할 수 있음\n",
        "\n",
        "### 위험도 보정계수 : (((3 / 2) * df_taxi['운행속도']) + ((59.7) * 3)) / (4 * df_taxi['운행속도'])"
      ],
      "metadata": {
        "id": "1V2UlhxXynjf"
      }
    }
  ]
}