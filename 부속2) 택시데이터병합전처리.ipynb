{
  "nbformat": 4,
  "nbformat_minor": 0,
  "metadata": {
    "colab": {
      "private_outputs": true,
      "provenance": [],
      "machine_shape": "hm"
    },
    "kernelspec": {
      "name": "python3",
      "display_name": "Python 3"
    },
    "language_info": {
      "name": "python"
    },
    "gpuClass": "standard"
  },
  "cells": [
    {
      "cell_type": "markdown",
      "source": [
        "**파일이 매우 큽니다. Colab pro를 이용하여 고용량 RAM을 사용하시는 것이 속 편합니다. <br>\n",
        "Colab pro 구독을 했다면, 노트 설정에서 대용량 RAM으로 바꾸시면 됩니다.**"
      ],
      "metadata": {
        "id": "3gyUsBmp6FjE"
      }
    },
    {
      "cell_type": "markdown",
      "source": [
        "\n",
        "\n",
        "---------------------------\n",
        "\n"
      ],
      "metadata": {
        "id": "1n9dx9jG6djr"
      }
    },
    {
      "cell_type": "markdown",
      "source": [
        "**구글 드라이브 연동입니다. <br>\n",
        "/content/drive로 mount를 했습니다. 그러기에 마지막 input_file, output_file의 절대 경로를 자신에게 잘 맞춰 입력해주십시오.**"
      ],
      "metadata": {
        "id": "rPZCSvM45RLs"
      }
    },
    {
      "cell_type": "code",
      "source": [
        "from google.colab import drive\n",
        "drive.mount('gdrive')\n",
        "#구글드라이브연동"
      ],
      "metadata": {
        "id": "tga5DSXC4LvM"
      },
      "execution_count": null,
      "outputs": []
    },
    {
      "cell_type": "markdown",
      "source": [
        "---------------------------"
      ],
      "metadata": {
        "id": "X70xcEJM8VbL"
      }
    },
    {
      "cell_type": "code",
      "source": [
        "import math\n",
        "import numpy as np\n",
        "import pandas as pd\n",
        "import seaborn as sns\n",
        "import matplotlib.pyplot as plt\n",
        "import gc\n",
        "from datetime import datetime"
      ],
      "metadata": {
        "id": "JgGKAh6Q8av7"
      },
      "execution_count": null,
      "outputs": []
    },
    {
      "cell_type": "code",
      "source": [
        "dfs = []\n",
        "with ZipFile('/content/gdrive/MyDrive/lecture-2023-bigdata/인천광역시_운행속도_202001.zip', 'r') as zipObj:\n",
        "  listOfFileNames = zipObj.namelist()\n",
        "  for fileName in listOfFileNames:\n",
        "      if fileName.endswith('csv'):\n",
        "          print(fileName)\n",
        "          with zipObj.open(fileName) as f:\n",
        "            for chunk in pd.read_csv(f, chunksize=10 ** 6, encoding='cp949'):\n",
        "                dfs.append(chunk)\n",
        "                del chunk\n",
        "                gc.collect()\n",
        "            f.close()\n",
        "  zipObj.close()\n",
        "\n",
        "taxi = pd.concat(dfs)\n",
        "taxi[\"시\"].unique()"
      ],
      "metadata": {
        "id": "0lQfGXNIohFX"
      },
      "execution_count": null,
      "outputs": []
    },
    {
      "cell_type": "code",
      "source": [
        "un = taxi[\"시\"].unique()\n",
        "un"
      ],
      "metadata": {
        "id": "TXxMYoFHpPTh"
      },
      "execution_count": null,
      "outputs": []
    },
    {
      "cell_type": "markdown",
      "source": [
        "**csv 파일 전처리 함수 정의입니다. 필요 없는 column은 제거하였으며, 필요한 column을 생성하여 insert 하였습니다.**"
      ],
      "metadata": {
        "id": "-ibz2rUq5kNk"
      }
    },
    {
      "cell_type": "code",
      "execution_count": null,
      "metadata": {
        "id": "XVM_JnLe3-c2"
      },
      "outputs": [],
      "source": [
        "import io\n",
        "from zipfile import ZipFile\n",
        "import gc\n",
        "\n",
        "\n",
        "\n",
        "\n",
        "chunksize = 10 ** 6 # 한번에 읽을 데이터 크기\n",
        "\n",
        "# usecols = ['시간', '동', '경도', '운행속도'] usecols=usecols,\n",
        "\n",
        "def preprocess_csv(input_file, output_file):\n",
        "    dfs = []\n",
        "    with ZipFile(input_file, 'r') as zipObj:\n",
        "      listOfFileNames = zipObj.namelist()\n",
        "      for fileName in listOfFileNames:\n",
        "          if fileName.endswith('csv'):\n",
        "              print(fileName)\n",
        "              with zipObj.open(fileName) as f:\n",
        "                for chunk in pd.read_csv(f, chunksize=chunksize, encoding='cp949'):\n",
        "                    dfs.append(chunk)\n",
        "                    del chunk\n",
        "                    gc.collect()\n",
        "                f.close()\n",
        "      zipObj.close()\n",
        "\n",
        "    taxi = pd.concat(dfs)\n",
        "    taxi[\"시\"].unique()\n",
        "    day = pd.to_datetime(taxi['시간'], format='%Y-%m-%d %H:%M:%S').dt.date\n",
        "    time = pd.to_datetime(taxi['시간'], format='%Y-%m-%d %H:%M:%S').dt.hour\n",
        "    week = pd.to_datetime(day, format='%Y-%m-%d').dt.dayofweek\n",
        "    month = pd.to_datetime(taxi['시간'], format='%Y-%m-%d %H:%M:%S').dt.month\n",
        "\n",
        "    taxi = taxi.drop('시간', axis=1)\n",
        "    taxi.insert(1, '요일', week)\n",
        "    taxi.insert(2, '시간', time)\n",
        "    taxi.insert(3, '월', month)\n",
        "\n",
        "    taxi = taxi.drop(['센서명','시', '군구'], axis=1)\n",
        "\n",
        "    def modify_time_category(time):\n",
        "        if 1 <= time <= 5:\n",
        "            return 0\n",
        "        elif 6 <= time <= 9:\n",
        "            return 1\n",
        "        elif 10 <= time <= 15:\n",
        "            return 2\n",
        "        elif 16 <= time <= 19:\n",
        "            return 3\n",
        "        else:\n",
        "            return 4\n",
        "\n",
        "    taxi['시간대'] = taxi['시간'].apply(modify_time_category)\n",
        "    taxi = taxi.drop('시간', axis=1)\n",
        "\n",
        "    idx = taxi[taxi['운행속도'] == 0].index\n",
        "    taxi.drop(idx, axis=0, inplace=True)\n",
        "\n",
        "    taxi['위도'] = taxi['위도'].astype('float').round(5)\n",
        "    taxi['경도'] = taxi['경도'].astype('float').round(5)\n",
        "\n",
        "    taxi = taxi.groupby(['요일', '월', '시간대', '동', '위도', '경도'], as_index=False)['운행속도'].mean()\n",
        "    taxi['운행속도'] = taxi['운행속도'].astype('int')\n",
        "\n",
        "    taxi.to_csv(output_file, index=False)"
      ]
    },
    {
      "cell_type": "markdown",
      "source": [
        "**직접 input_file과 output_file의 경로를 입력하여 dataframe으로 만들어 preprocessing을 실행하는 단계입니다.**"
      ],
      "metadata": {
        "id": "W_oe_3OC5319"
      }
    },
    {
      "cell_type": "code",
      "source": [
        "# 입력 및 출력 파일 이름을 지정하여 preprocess_csv 함수를 호출합니다.\n",
        "input_file = '/content/gdrive/MyDrive/lecture-2023-bigdata/인천광역시_운행속도_202001.zip'\n",
        "output_file = '/content/gdrive/MyDrive/lecture-2023-bigdata/resultC_202001.csv'\n",
        "preprocess_csv(input_file, output_file)"
      ],
      "metadata": {
        "id": "91B4c_Wt4cg1"
      },
      "execution_count": null,
      "outputs": []
    },
    {
      "cell_type": "markdown",
      "source": [
        "---------"
      ],
      "metadata": {
        "id": "NKQLTZdj6k5L"
      }
    },
    {
      "cell_type": "markdown",
      "source": [
        "**여러개는 어떻게 할까?**"
      ],
      "metadata": {
        "id": "m6ZR9D6l8NMT"
      }
    },
    {
      "cell_type": "code",
      "source": [
        "def preprocess_csv_many(input_files, output_files):\n",
        "     def modify_time_category(time):\n",
        "        if 1 <= time <= 5:\n",
        "            return 0\n",
        "        elif 6 <= time <= 9:\n",
        "            return 1\n",
        "        elif 10 <= time <= 15:\n",
        "            return 2\n",
        "        elif 16 <= time <= 19:\n",
        "            return 3\n",
        "        else:\n",
        "            return 4\n",
        "\n",
        "     for i in range(len(input_files)):\n",
        "        input_file = input_files[i]\n",
        "        output_file = output_files[i]\n",
        "\n",
        "        taxi = pd.read_csv(input_file, encoding='CP949', header=0)\n",
        "\n",
        "        day = pd.to_datetime(taxi['시간'], format='%Y-%m-%d %H:%M:%S').dt.date\n",
        "        time = pd.to_datetime(taxi['시간'], format='%Y-%m-%d %H:%M:%S').dt.hour\n",
        "        week = pd.to_datetime(day, format='%Y-%m-%d').dt.dayofweek\n",
        "        month = pd.to_datetime(taxi['시간'], format='%Y-%m-%d %H:%M:%S').dt.month\n",
        "\n",
        "        taxi = taxi.drop('시간', axis=1)\n",
        "        taxi.insert(1, '요일', week)\n",
        "        taxi.insert(2, '시간', time)\n",
        "        taxi.insert(3, '월', month)\n",
        "\n",
        "        taxi = taxi.drop(['센서명', '위도', '경도', '지오해시', '시', '군구'], axis=1)\n",
        "\n",
        "\n",
        "\n",
        "        taxi['시간대'] = taxi['시간'].apply(modify_time_category)\n",
        "        taxi = taxi.drop('시간', axis=1)\n",
        "\n",
        "        idx = taxi[taxi['운행속도'] == 0].index\n",
        "        taxi.drop(idx, axis=0, inplace=True)\n",
        "\n",
        "        taxi = taxi.groupby(['요일', '월', '시간대', '동'], as_index=False)['운행속도'].mean()\n",
        "        taxi['운행속도'] = taxi['운행속도'].astype('int')\n",
        "\n",
        "        taxi.to_csv(output_file, index=False)"
      ],
      "metadata": {
        "id": "vBYWMfKi8RU7"
      },
      "execution_count": null,
      "outputs": []
    },
    {
      "cell_type": "code",
      "source": [
        "input_files = [\n",
        "    '/content/drive/MyDrive/smubigdata2023/ich_202108.csv',\n",
        "    '/content/drive/MyDrive/smubigdata2023/ich_202109.csv',\n",
        "    '/content/drive/MyDrive/smubigdata2023/ich_202110.csv'\n",
        "]\n",
        "output_files = [\n",
        "    '/content/drive/MyDrive/smubigdata2023/result_2108.csv',\n",
        "    '/content/drive/MyDrive/smubigdata2023/result_2109.csv',\n",
        "    '/content/drive/MyDrive/smubigdata2023/result_2110.csv'\n",
        "]\n",
        "preprocess_csv_many(input_files, output_files)"
      ],
      "metadata": {
        "id": "ArYMxefN802F"
      },
      "execution_count": null,
      "outputs": []
    },
    {
      "cell_type": "markdown",
      "source": [
        "---------"
      ],
      "metadata": {
        "id": "dzqaMA4A8Nf0"
      }
    },
    {
      "cell_type": "markdown",
      "source": [
        "**병합 부분입니다. <br> 병합은 안터지는 한에서 그냥 최대한 합치면 몇번 안돌리고 후딱 끝낼겁니다. <br>전처리를 위에서 다해놔서 합쳐도 제거할거나 중복이 없거든요. \"month\" column 때문에 <br> 그래서 output_file에서 파일명도 직접 바꾸면 됩니다. 그냥 지금은 merge_21_시작_끝.csv로 임시로 써놨습니다**"
      ],
      "metadata": {
        "id": "YIj2oD506lgT"
      }
    },
    {
      "cell_type": "code",
      "source": [
        "def merge_csv(input_files, output_file):\n",
        "    # 빈 DataFrame 생성\n",
        "    merged_df = pd.DataFrame()\n",
        "\n",
        "    for input_file in input_files:\n",
        "        # CSV 파일 읽어오기\n",
        "        df = pd.read_csv(input_file)\n",
        "\n",
        "        # 읽어온 DataFrame을 빈 DataFrame에 추가\n",
        "        merged_df = pd.concat([merged_df, df], ignore_index=True)\n",
        "\n",
        "    # 합쳐진 DataFrame을 CSV 파일로 저장\n",
        "    merged_df.to_csv(output_file, index=False)"
      ],
      "metadata": {
        "id": "0Tr0Q2u-7Nm0"
      },
      "execution_count": null,
      "outputs": []
    },
    {
      "cell_type": "code",
      "source": [
        "# 입력 파일 리스트와 출력 파일 이름을 지정합니다.\n",
        "input_files = [\n",
        "    '/content/gdrive/MyDrive/lecture-2023-bigdata/result_202001.csv',\n",
        "    '/content/gdrive/MyDrive/lecture-2023-bigdata/result_202002.csv',\n",
        "    '/content/gdrive/MyDrive/lecture-2023-bigdata/result_202003.csv',\n",
        "    '/content/gdrive/MyDrive/lecture-2023-bigdata/result_202004.csv',\n",
        "    '/content/gdrive/MyDrive/lecture-2023-bigdata/result_202005.csv',\n",
        "    '/content/gdrive/MyDrive/lecture-2023-bigdata/result_202006.csv',\n",
        "    '/content/gdrive/MyDrive/lecture-2023-bigdata/result_202007.csv',\n",
        "    '/content/gdrive/MyDrive/lecture-2023-bigdata/result_202008.csv',\n",
        "    '/content/gdrive/MyDrive/lecture-2023-bigdata/result_202009.csv',\n",
        "    '/content/gdrive/MyDrive/lecture-2023-bigdata/result_202010.csv',\n",
        "    '/content/gdrive/MyDrive/lecture-2023-bigdata/result_202011.csv',\n",
        "    '/content/gdrive/MyDrive/lecture-2023-bigdata/result_202012.csv',\n",
        "]\n",
        "output_file = '/content/gdrive/MyDrive/lecture-2023-bigdata/merge_20.csv'\n",
        "\n",
        "# merge_csv 함수 호출\n",
        "merge_csv(input_files, output_file)"
      ],
      "metadata": {
        "id": "zhdSwxcC6pLj"
      },
      "execution_count": null,
      "outputs": []
    },
    {
      "cell_type": "markdown",
      "source": [
        "---------"
      ],
      "metadata": {
        "id": "w5FCvujN_sZD"
      }
    },
    {
      "cell_type": "markdown",
      "source": [
        "**데이터 확인**"
      ],
      "metadata": {
        "id": "d2DUZC5L_wyc"
      }
    },
    {
      "cell_type": "code",
      "source": [
        "merge=pd.read_csv('/content/gdrive/MyDrive/lecture-2023-bigdata/merge_20_01_02.csv')"
      ],
      "metadata": {
        "id": "AokkEoss_jdE"
      },
      "execution_count": null,
      "outputs": []
    },
    {
      "cell_type": "code",
      "source": [
        "merge"
      ],
      "metadata": {
        "id": "oIrB6zBK_o-j"
      },
      "execution_count": null,
      "outputs": []
    }
  ]
}